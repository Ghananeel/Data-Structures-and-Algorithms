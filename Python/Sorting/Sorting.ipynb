{
 "cells": [
  {
   "cell_type": "code",
   "execution_count": 27,
   "metadata": {},
   "outputs": [],
   "source": [
    "def bubbleSort(l):\n",
    "    n = len(l)\n",
    "    swapped = False\n",
    "    for i in range(n-1):\n",
    "        for j in range(n-i-1):\n",
    "            if l[j] > l[j+1]:\n",
    "                l[j], l[j+1] = l[j+1], l[j]\n",
    "                swapped = True\n",
    "        if swapped == False:\n",
    "            return l\n",
    "    return l"
   ]
  },
  {
   "cell_type": "code",
   "execution_count": 28,
   "metadata": {},
   "outputs": [],
   "source": [
    "def selectionSort(l):\n",
    "    n = len(l)\n",
    "    for i in range(n-1):\n",
    "        min_ind = i\n",
    "        for j in range(i+1,n):\n",
    "            if l[j] < l[min_ind]:\n",
    "                min_ind = j\n",
    "        l[min_ind], l[i] = l[min_ind], l[i]\n",
    "    return l\n"
   ]
  },
  {
   "cell_type": "code",
   "execution_count": 29,
   "metadata": {},
   "outputs": [
    {
     "name": "stdout",
     "output_type": "stream",
     "text": [
      "[5, 8, 10, 20]\n"
     ]
    }
   ],
   "source": [
    "l = [10 , 8, 20, 5]\n",
    "print(bubbleSort(l))"
   ]
  },
  {
   "cell_type": "code",
   "execution_count": 30,
   "metadata": {},
   "outputs": [
    {
     "name": "stdout",
     "output_type": "stream",
     "text": [
      "[10, 8, 20, 5]\n"
     ]
    }
   ],
   "source": [
    "l = [10 , 8, 20, 5]\n",
    "print(selectionSort(l))"
   ]
  },
  {
   "cell_type": "code",
   "execution_count": null,
   "metadata": {},
   "outputs": [],
   "source": []
  }
 ],
 "metadata": {
  "kernelspec": {
   "display_name": "base",
   "language": "python",
   "name": "python3"
  },
  "language_info": {
   "codemirror_mode": {
    "name": "ipython",
    "version": 3
   },
   "file_extension": ".py",
   "mimetype": "text/x-python",
   "name": "python",
   "nbconvert_exporter": "python",
   "pygments_lexer": "ipython3",
   "version": "3.9.12"
  }
 },
 "nbformat": 4,
 "nbformat_minor": 2
}
